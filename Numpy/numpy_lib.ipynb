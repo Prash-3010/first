{
 "cells": [
  {
   "cell_type": "code",
   "execution_count": null,
   "id": "a73e5709",
   "metadata": {},
   "outputs": [],
   "source": [
    "import numpy as np\n",
    "print(np.__version__)"
   ]
  },
  {
   "cell_type": "code",
   "execution_count": null,
   "id": "755fa004",
   "metadata": {},
   "outputs": [],
   "source": [
    "lst=[1,2,3,4,5]\n",
    "print(lst)\n",
    "print(\"type of lst:\",type(lst))"
   ]
  },
  {
   "cell_type": "code",
   "execution_count": null,
   "id": "c2e67c65",
   "metadata": {},
   "outputs": [],
   "source": [
    "arr=np.array(lst)\n",
    "print(arr)\n",
    "print(\"type of arr:\", type(arr))"
   ]
  },
  {
   "cell_type": "code",
   "execution_count": null,
   "id": "7d1a56e3",
   "metadata": {},
   "outputs": [],
   "source": [
    "lst=list(range(1,10))\n",
    "print(type(lst))\n",
    "arr = np.arange(1,10)\n",
    "arr"
   ]
  },
  {
   "cell_type": "code",
   "execution_count": null,
   "id": "7a8aa918",
   "metadata": {},
   "outputs": [],
   "source": [
    "np.zeros(5)"
   ]
  },
  {
   "cell_type": "code",
   "execution_count": null,
   "id": "4aa77534",
   "metadata": {},
   "outputs": [],
   "source": [
    "np.ones(4)  #print 1 four times"
   ]
  },
  {
   "cell_type": "code",
   "execution_count": null,
   "id": "341e9065",
   "metadata": {},
   "outputs": [],
   "source": [
    "np.linspace(1,10,5)"
   ]
  },
  {
   "cell_type": "code",
   "execution_count": null,
   "id": "35dd6d67",
   "metadata": {},
   "outputs": [],
   "source": [
    "np.linspace(1,5,5)       #print 5 numbers in range 1 to 10"
   ]
  },
  {
   "cell_type": "code",
   "execution_count": null,
   "id": "dd866505",
   "metadata": {},
   "outputs": [],
   "source": [
    "np.zeros([5,5])       #to make 2D array"
   ]
  },
  {
   "cell_type": "code",
   "execution_count": null,
   "id": "5fcf2c4c",
   "metadata": {},
   "outputs": [],
   "source": [
    "arr= np.arange(1,31)  \n",
    "arr.reshape(5,6)   # used to reshape the existing array  .........the mulitply of the two numbers should be = no of items"
   ]
  },
  {
   "cell_type": "code",
   "execution_count": null,
   "id": "af983234",
   "metadata": {},
   "outputs": [],
   "source": [
    "arr.reshape(10,3)"
   ]
  },
  {
   "cell_type": "code",
   "execution_count": null,
   "id": "1ea88f84",
   "metadata": {},
   "outputs": [],
   "source": [
    "arr= np.random.randint(1,5,9)    # give random int \n",
    "arr"
   ]
  },
  {
   "cell_type": "code",
   "execution_count": null,
   "id": "b00fac13",
   "metadata": {},
   "outputs": [],
   "source": [
    "arr= np.random.randint(1,5,(5,2))    # give random int \n",
    "arr"
   ]
  },
  {
   "cell_type": "code",
   "execution_count": null,
   "id": "1dd497ee",
   "metadata": {},
   "outputs": [],
   "source": [
    "np.random.random((5,3))"
   ]
  },
  {
   "cell_type": "code",
   "execution_count": null,
   "id": "4b080302",
   "metadata": {},
   "outputs": [],
   "source": [
    "arr= np.arange(60).reshape(5,12)\n",
    "arr"
   ]
  },
  {
   "cell_type": "code",
   "execution_count": null,
   "id": "0ce6b7c9",
   "metadata": {},
   "outputs": [],
   "source": [
    "print(\"array shape:\", arr.shape)\n",
    "print(\"size of array:\",arr.size)\n",
    "print(\"no of dim:\",arr.ndim)\n",
    "print(\"dtype of array:\",arr.dtype)\n",
    "\n"
   ]
  },
  {
   "cell_type": "code",
   "execution_count": null,
   "id": "aa850014",
   "metadata": {},
   "outputs": [],
   "source": [
    "arr=arr.flatten()  #convert 2D into 1D        # it returns array"
   ]
  },
  {
   "cell_type": "code",
   "execution_count": null,
   "id": "3e1f521e",
   "metadata": {},
   "outputs": [],
   "source": [
    "# arr.ravel()            #it is used to just view the array"
   ]
  },
  {
   "cell_type": "code",
   "execution_count": null,
   "id": "4663b593",
   "metadata": {},
   "outputs": [],
   "source": [
    "print(\"array shape:\", arr.shape)\n",
    "print(\"size of array:\",arr.size)\n",
    "print(\"no of dim:\",arr.ndim)\n",
    "print(\"dtype of array:\",arr.dtype)\n",
    "\n"
   ]
  },
  {
   "cell_type": "code",
   "execution_count": null,
   "id": "db3bcde7",
   "metadata": {},
   "outputs": [],
   "source": [
    "arr= np.arange(60).reshape(12,5)\n",
    "arr"
   ]
  },
  {
   "cell_type": "code",
   "execution_count": null,
   "id": "a5fcbdd8",
   "metadata": {},
   "outputs": [],
   "source": [
    "arr.T"
   ]
  },
  {
   "cell_type": "code",
   "execution_count": null,
   "id": "caea1c25",
   "metadata": {},
   "outputs": [],
   "source": [
    "arr.T.shape          #to transform dimensions"
   ]
  },
  {
   "cell_type": "code",
   "execution_count": 78,
   "id": "4bdf1946",
   "metadata": {},
   "outputs": [
    {
     "data": {
      "text/plain": [
       "array([100])"
      ]
     },
     "execution_count": 78,
     "metadata": {},
     "output_type": "execute_result"
    }
   ],
   "source": [
    "arr[0][1]      #to print using indexing\n",
    "arr[-1][-1]\n",
    "arr[1:5,2]\n",
    "arr[11:12,4]"
   ]
  },
  {
   "cell_type": "code",
   "execution_count": null,
   "id": "40f31e51",
   "metadata": {},
   "outputs": [],
   "source": [
    "arr[-1][-1]=100\n",
    "arr"
   ]
  },
  {
   "cell_type": "code",
   "execution_count": null,
   "id": "37a8a24e",
   "metadata": {},
   "outputs": [],
   "source": [
    "min,max"
   ]
  },
  {
   "cell_type": "code",
   "execution_count": null,
   "id": "2416381e",
   "metadata": {},
   "outputs": [],
   "source": [
    "#3D array\n",
    "\n",
    "arr3= np.array(np.arange(225).reshape(5,15,3))\n",
    "arr3"
   ]
  },
  {
   "cell_type": "code",
   "execution_count": null,
   "id": "d4a99188",
   "metadata": {},
   "outputs": [],
   "source": [
    "print(\"array shape:\", arr3.shape)\n",
    "print(\"size of array:\",arr3.size)\n",
    "print(\"no of dim:\",arr3.ndim)\n",
    "print(\"dtype of array:\",arr3.dtype)\n",
    "\n"
   ]
  },
  {
   "cell_type": "code",
   "execution_count": null,
   "id": "038568b0",
   "metadata": {},
   "outputs": [],
   "source": [
    "arr3[0]     # gives 0th table"
   ]
  },
  {
   "cell_type": "code",
   "execution_count": null,
   "id": "adf04354",
   "metadata": {},
   "outputs": [],
   "source": [
    "arr3[0][0][0]\n",
    "arr3[0:2,1:3,1:3]"
   ]
  },
  {
   "cell_type": "code",
   "execution_count": null,
   "id": "917957c4",
   "metadata": {},
   "outputs": [],
   "source": [
    "#to access the first element of each table\n",
    "arr3[0:6,0,0]\n",
    "# arr3[0:6,0:1,0:1]\n",
    "arr3[0:,0,0]"
   ]
  },
  {
   "cell_type": "code",
   "execution_count": null,
   "id": "e1737f7d",
   "metadata": {},
   "outputs": [],
   "source": [
    "\n",
    "ar1= np.array(np.arange(15))\n",
    "ar2= np.array(np.arange(15))\n",
    "ar3= np.array(np.arange(5))\n",
    "print(ar1+ ar2)\n",
    "print(ar2*ar1)\n",
    "print(ar3*2)\n",
    "print(ar2+2)\n",
    "# print(ar1/ar2)\n",
    "print(min(ar1))\n",
    "print(max(ar3))\n",
    "print((ar2))"
   ]
  }
 ],
 "metadata": {
  "kernelspec": {
   "display_name": "Python 3",
   "language": "python",
   "name": "python3"
  },
  "language_info": {
   "codemirror_mode": {
    "name": "ipython",
    "version": 3
   },
   "file_extension": ".py",
   "mimetype": "text/x-python",
   "name": "python",
   "nbconvert_exporter": "python",
   "pygments_lexer": "ipython3",
   "version": "3.11.5"
  }
 },
 "nbformat": 4,
 "nbformat_minor": 5
}
