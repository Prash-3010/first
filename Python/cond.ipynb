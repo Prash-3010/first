{
 "cells": [
  {
   "cell_type": "code",
   "execution_count": null,
   "id": "7ca226f4",
   "metadata": {},
   "outputs": [],
   "source": [
    "x= 5\n",
    "if x>10:\n",
    "    print(\"x is greater than 10\")\n",
    "else:\n",
    "    print(\"x is smaller than 10\")"
   ]
  },
  {
   "cell_type": "code",
   "execution_count": null,
   "id": "0ee3ee88",
   "metadata": {},
   "outputs": [],
   "source": [
    "grade = int(input(\"enter the grade:\"))\n",
    "if grade >= 90:\n",
    "    print(\"A grade\")\n",
    "elif grade>=80 and grade < 90:\n",
    "    print(\"B grade\")\n",
    "elif grade >= 70 and grade < 80:\n",
    "    print(\"C grade\")\n",
    "elif grade >= 60 and grade < 70:\n",
    "    print(\"D grade\")\n",
    "else:\n",
    "    print(\"fail\")"
   ]
  },
  {
   "cell_type": "code",
   "execution_count": null,
   "id": "81cac2f1",
   "metadata": {},
   "outputs": [],
   "source": [
    "# lst = [1,2,3,4,5]\n",
    "# for x in lst:\n",
    "#     print(x)\n",
    "\n",
    "for x in range(20):\n",
    "    print(x)\n"
   ]
  },
  {
   "cell_type": "code",
   "execution_count": null,
   "id": "552bd7d1",
   "metadata": {},
   "outputs": [],
   "source": [
    "for x in range(7,20):\n",
    "    print(x)"
   ]
  },
  {
   "cell_type": "code",
   "execution_count": null,
   "id": "92e0a137",
   "metadata": {},
   "outputs": [],
   "source": [
    "for i in range(2,20,3):\n",
    "    print(i)"
   ]
  },
  {
   "cell_type": "code",
   "execution_count": null,
   "id": "7f8d992c",
   "metadata": {},
   "outputs": [],
   "source": [
    "dct ={'name':['ritik', 'rohit'] , 'age': 34, 'phone': 7505482944}\n",
    "for x in dct.keys():\n",
    "    print(x)\n",
    "\n",
    "for x in dct.items():\n",
    "    print(x)\n"
   ]
  },
  {
   "cell_type": "code",
   "execution_count": null,
   "id": "a53c6e65",
   "metadata": {},
   "outputs": [],
   "source": [
    "x= 5\n",
    "while x<10:\n",
    "    print(x)\n",
    "    x+=1"
   ]
  },
  {
   "cell_type": "code",
   "execution_count": null,
   "id": "dc3e3ac0",
   "metadata": {},
   "outputs": [],
   "source": [
    "# for x in range(5,20):\n",
    "#     if x == 5:\n",
    "#         continue\n",
    "#     print(x)\n",
    "\n",
    "for x in range(0,20):\n",
    "    if x == 5:\n",
    "        break\n",
    "    print(x)"
   ]
  },
  {
   "cell_type": "code",
   "execution_count": null,
   "id": "bba056e5",
   "metadata": {},
   "outputs": [],
   "source": [
    "x =5\n",
    "while x <= 10:\n",
    "    \n",
    "    if x == 8:\n",
    "        continue\n",
    "    print(x)\n",
    "    x+=1\n",
    "\n"
   ]
  },
  {
   "cell_type": "code",
   "execution_count": null,
   "id": "4c2f3f43",
   "metadata": {},
   "outputs": [],
   "source": [
    "# def function_name(arguements):       # definition\n",
    "    # block of code\n",
    "\n",
    "# function_name(parameters)            # function calling \n",
    "\n",
    "def add():\n",
    "    x =5\n",
    "    y =2\n",
    "    print(x+y)\n",
    "\n",
    "add(76,87)"
   ]
  },
  {
   "cell_type": "code",
   "execution_count": null,
   "id": "634af069",
   "metadata": {},
   "outputs": [],
   "source": [
    "def add(x,y):\n",
    "    print(x+y)\n",
    "    print(x*y)\n",
    "    \n",
    "add(2,6)"
   ]
  },
  {
   "cell_type": "code",
   "execution_count": null,
   "id": "6ed3c028",
   "metadata": {},
   "outputs": [],
   "source": [
    "add(2,8)"
   ]
  },
  {
   "cell_type": "code",
   "execution_count": null,
   "id": "4ff76ebc",
   "metadata": {},
   "outputs": [],
   "source": [
    "def class1(name,branch='CSE'):\n",
    "    print(f\"my name is {name} and my branch is {branch}\")\n",
    "\n",
    "class1(name='Prashansa')"
   ]
  },
  {
   "cell_type": "code",
   "execution_count": null,
   "id": "b47a1bc5",
   "metadata": {},
   "outputs": [],
   "source": [
    "class1(name='Prashansa', branch = 'Civil')"
   ]
  },
  {
   "cell_type": "code",
   "execution_count": null,
   "id": "523dd270",
   "metadata": {},
   "outputs": [],
   "source": [
    "def add(x, y): \n",
    "    return x + y\n",
    "print(add(2, 3))"
   ]
  },
  {
   "cell_type": "code",
   "execution_count": null,
   "id": "9b0e5e7b",
   "metadata": {},
   "outputs": [],
   "source": [
    "# class class_name:\n",
    "\n",
    "class Student:\n",
    "    St_name = 'Rohit'   #class variable\n",
    "\n",
    "obj = Student()\n",
    "print(obj.St_name)\n"
   ]
  },
  {
   "cell_type": "code",
   "execution_count": null,
   "id": "b4f89c62",
   "metadata": {},
   "outputs": [],
   "source": [
    "class A:\n",
    "    def info(self):\n",
    "        name= \"prash\"\n",
    "        age = 21\n",
    "        print(name)\n",
    "        print(age)\n",
    "\n",
    "obj = A()\n",
    "obj.info()"
   ]
  },
  {
   "cell_type": "code",
   "execution_count": null,
   "id": "2a4895df",
   "metadata": {},
   "outputs": [],
   "source": [
    "#inheritance\n",
    "#single inheritance\n",
    "class A:\n",
    "    name=\"abc\"\n",
    "class B(A):\n",
    "    age=23\n",
    "\n",
    "obj = B()\n",
    "obj.name"
   ]
  },
  {
   "cell_type": "code",
   "execution_count": null,
   "id": "95086474",
   "metadata": {},
   "outputs": [],
   "source": [
    "#multilevel \n",
    "\n",
    "class Grandfather:\n",
    "    Grandfather_name= \"ashok\"\n",
    "class Father(Grandfather):\n",
    "    Father_name = \"alok\"\n",
    "class Child(Father):\n",
    "    Childname=\"amit\"\n",
    "obj = Child()\n",
    "obj.Grandfather_name\n"
   ]
  },
  {
   "cell_type": "code",
   "execution_count": null,
   "id": "f9e6dcd8",
   "metadata": {},
   "outputs": [],
   "source": [
    "class Father:\n",
    "    Father_name=\"fnjf\"\n",
    "    def info(self):\n",
    "        print(\"this is info\")\n",
    "class Uncle:\n",
    "    Uncle_name=\"vdsc\"\n",
    "class Child(Father,Uncle):\n",
    "    name=\"fsjcndckjv\"\n",
    "\n",
    "obj = Child()"
   ]
  },
  {
   "cell_type": "code",
   "execution_count": null,
   "id": "7852f2d0",
   "metadata": {},
   "outputs": [],
   "source": [
    "obj.info()"
   ]
  },
  {
   "cell_type": "code",
   "execution_count": null,
   "id": "aa02fd69",
   "metadata": {},
   "outputs": [],
   "source": [
    "class A:\n",
    "    name=\"fefs\" #public\n",
    "    _age=23   #private\n",
    "    __phone = 59203487204   #protected\n",
    "\n",
    "obj = A()\n",
    "\n",
    "obj._A__phone      # to access the private variable in  a classobjname._classname__variablename\n"
   ]
  },
  {
   "cell_type": "code",
   "execution_count": null,
   "id": "df5289e1",
   "metadata": {},
   "outputs": [],
   "source": [
    "class A:\n",
    "    def info(self):\n",
    "        print(\"A\")\n",
    "\n",
    "class B(A):\n",
    "    def info(self):\n",
    "        print(\"B\")\n",
    "\n",
    "obj = B()\n"
   ]
  },
  {
   "cell_type": "code",
   "execution_count": null,
   "id": "42708d4a",
   "metadata": {},
   "outputs": [],
   "source": [
    "obj.info()"
   ]
  },
  {
   "cell_type": "code",
   "execution_count": null,
   "id": "8a3e5389",
   "metadata": {},
   "outputs": [],
   "source": [
    "class A:\n",
    "    def info(self,name):\n",
    "        print(\"this is the first method\", name)\n",
    "              \n",
    "    def info(self,age):\n",
    "        print(\"this is the second method\", age)\n",
    "\n",
    "obj = A()        "
   ]
  },
  {
   "cell_type": "code",
   "execution_count": null,
   "id": "9a7d7d76",
   "metadata": {},
   "outputs": [],
   "source": [
    "obj.info()"
   ]
  },
  {
   "cell_type": "code",
   "execution_count": null,
   "id": "6ae0b4d4",
   "metadata": {},
   "outputs": [],
   "source": [
    "class A:\n",
    "    def __init__(self):\n",
    "        pass\n",
    "\n",
    "obj= A()"
   ]
  },
  {
   "cell_type": "code",
   "execution_count": null,
   "id": "bdd6acfd",
   "metadata": {},
   "outputs": [],
   "source": [
    "class A:\n",
    "    def __init__(self, name, age):\n",
    "        self.name=name\n",
    "        self.age=age\n",
    "\n",
    "obj = A(name=\"prash\" , age=21)\n",
    "obj.age\n",
    "obj.name\n"
   ]
  },
  {
   "cell_type": "code",
   "execution_count": null,
   "id": "c9221536",
   "metadata": {},
   "outputs": [
    {
     "data": {
      "text/plain": [
       "21"
      ]
     },
     "execution_count": 9,
     "metadata": {},
     "output_type": "execute_result"
    }
   ],
   "source": [
    "class A:\n",
    "    def __init__(self, name, age):\n",
    "       self.name=name\n",
    "       self.age=age\n",
    "\n",
    "    def display(self):\n",
    "        print(self.name)\n",
    "\n",
    "obj = A( name=\"prash\" , age=21)\n",
    "obj.age\n",
    "obj.name\n",
    "obj.display()\n"
   ]
  },
  {
   "cell_type": "code",
   "execution_count": 2,
   "id": "37b54621",
   "metadata": {},
   "outputs": [],
   "source": [
    "class College:\n",
    "    def __init__(self,name,salary ,department):\n",
    "        self.name=name\n",
    "        self.__salary=salary\n",
    "        self.department=department\n",
    "\n",
    "    def info(self):\n",
    "        print(self.name)\n",
    "        \n",
    "\n",
    "class Account(College):\n",
    "    def display(self):\n",
    "\n",
    "        print(self.department)\n",
    "\n",
    "obj = College(name=\"prashansa\" , salary=45000, department=\"tech\")\n",
    "obj1= Account(name=\"neha\", salary= 40000 , department=\"marketing\")\n",
    "\n",
    "\n"
   ]
  },
  {
   "cell_type": "code",
   "execution_count": 3,
   "id": "a58e31f8",
   "metadata": {},
   "outputs": [
    {
     "name": "stdout",
     "output_type": "stream",
     "text": [
      "prashansa\n",
      "marketing\n"
     ]
    },
    {
     "data": {
      "text/plain": [
       "45000"
      ]
     },
     "execution_count": 3,
     "metadata": {},
     "output_type": "execute_result"
    }
   ],
   "source": [
    "\n",
    "obj.info()\n",
    "obj1.display()\n",
    "obj._College__salary"
   ]
  }
 ],
 "metadata": {
  "kernelspec": {
   "display_name": "Python 3",
   "language": "python",
   "name": "python3"
  },
  "language_info": {
   "codemirror_mode": {
    "name": "ipython",
    "version": 3
   },
   "file_extension": ".py",
   "mimetype": "text/x-python",
   "name": "python",
   "nbconvert_exporter": "python",
   "pygments_lexer": "ipython3",
   "version": "3.11.5"
  }
 },
 "nbformat": 4,
 "nbformat_minor": 5
}
