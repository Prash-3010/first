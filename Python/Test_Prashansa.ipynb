{
 "cells": [
  {
   "cell_type": "code",
   "execution_count": null,
   "id": "e220ec7e",
   "metadata": {},
   "outputs": [],
   "source": [
    "# Question 10 \n",
    " \n",
    "x = 5\n",
    "if x > 3:\n",
    "    print('Yes')\n",
    "else:\n",
    "    print('No')"
   ]
  },
  {
   "cell_type": "code",
   "execution_count": null,
   "id": "8d333ce0",
   "metadata": {},
   "outputs": [],
   "source": [
    "# question 11\n",
    "\n",
    "for i in range(0, 5): print(i)"
   ]
  },
  {
   "cell_type": "code",
   "execution_count": null,
   "id": "2bf16d67",
   "metadata": {},
   "outputs": [
    {
     "name": "stdout",
     "output_type": "stream",
     "text": [
      "5\n"
     ]
    }
   ],
   "source": [
    "# Question 14\n",
    "\n",
    "def add(x, y): return x + y\n",
    "print(add(2, 3))"
   ]
  },
  {
   "cell_type": "code",
   "execution_count": null,
   "id": "95fa0995",
   "metadata": {},
   "outputs": [
    {
     "name": "stdout",
     "output_type": "stream",
     "text": [
      "2\n",
      "3\n",
      "4\n"
     ]
    }
   ],
   "source": [
    "# Question 15\n",
    "# What does break do in a loop?\n",
    "# break keyword is used when we want to break the execution of code at a certain condition.\n",
    "# code:\n",
    "for i in range(2,8):\n",
    "    if i%5==0:\n",
    "        break\n",
    "    print(i)\n",
    "\n"
   ]
  },
  {
   "cell_type": "code",
   "execution_count": null,
   "id": "f1df6533",
   "metadata": {},
   "outputs": [],
   "source": [
    "# Question 16\n",
    "# What is the difference between for and while loop?\n",
    "#  For loop is used when we know the execution range that for how much time our loop will iterate.\n",
    "# While loop is used when the number of iterations are unknown , only a condition is given that the\n",
    "#  loop will execute until that conditiom is true.\n",
    "# code:\n",
    "\n",
    "for i in range(3,7):\n",
    "    print(i+3)\n",
    "\n",
    "x = 7\n",
    "while(x<10):\n",
    "    print(x-5)\n",
    "    x+=1\n"
   ]
  },
  {
   "cell_type": "code",
   "execution_count": null,
   "id": "e5ac1099",
   "metadata": {},
   "outputs": [
    {
     "data": {
      "text/plain": [
       "15"
      ]
     },
     "execution_count": 21,
     "metadata": {},
     "output_type": "execute_result"
    }
   ],
   "source": [
    "# Question 18\n",
    "# what is function overloading?\n",
    "# In python the last defined function will exectue \n",
    "# code \n",
    "\n",
    "def addition(x,y):\n",
    "    return x+y\n",
    "\n",
    "def addition(x,y,z):\n",
    "    return x+y+z\n",
    "\n",
    "addition(2,5,8)\n",
    "\n"
   ]
  },
  {
   "cell_type": "code",
   "execution_count": null,
   "id": "e4429511",
   "metadata": {},
   "outputs": [
    {
     "name": "stdout",
     "output_type": "stream",
     "text": [
      "the student's name is Prashansa and the pending fees is 34000\n"
     ]
    }
   ],
   "source": [
    "# Quesion 19\n",
    "# function overriding\n",
    "# code:\n",
    "\n",
    "class student:\n",
    "    def info(self,name,fees):\n",
    "        print(f\"the student's name is {name} and the fees is {fees}\")\n",
    "\n",
    "class account:\n",
    "    def notice(self, name,fees):\n",
    "        print(f\"the student's name is {name} and the pending fees is {fees}\")\n",
    "\n",
    "obj = account()\n",
    "obj.notice(name ='Prashansa', fees =34000)\n"
   ]
  },
  {
   "cell_type": "code",
   "execution_count": null,
   "id": "cb592998",
   "metadata": {},
   "outputs": [
    {
     "data": {
      "text/plain": [
       "10"
      ]
     },
     "execution_count": 1,
     "metadata": {},
     "output_type": "execute_result"
    }
   ],
   "source": [
    "# question 20:\n",
    " \n",
    "def mult(x,y):     \n",
    "      return x*y\n",
    "\n",
    "mult(2,5)      "
   ]
  }
 ],
 "metadata": {
  "kernelspec": {
   "display_name": "Python 3",
   "language": "python",
   "name": "python3"
  },
  "language_info": {
   "codemirror_mode": {
    "name": "ipython",
    "version": 3
   },
   "file_extension": ".py",
   "mimetype": "text/x-python",
   "name": "python",
   "nbconvert_exporter": "python",
   "pygments_lexer": "ipython3",
   "version": "3.11.5"
  }
 },
 "nbformat": 4,
 "nbformat_minor": 5
}
