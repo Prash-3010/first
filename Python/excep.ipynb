{
 "cells": [
  {
   "cell_type": "markdown",
   "id": "edbbcb0d",
   "metadata": {},
   "source": [
    "try:\n",
    "    block of code\n",
    "except:\n",
    "    block of code\n",
    "else:\n",
    "    block of code\n",
    "finally:\n",
    "    block of code\n",
    "\n",
    "\n",
    "errors:\n",
    "zerodivision \n",
    "value \n",
    "filenotfound\n",
    "attribute\n",
    "key\n",
    "modulenotfound\n",
    "casting"
   ]
  },
  {
   "cell_type": "code",
   "execution_count": 1,
   "id": "ff697b11",
   "metadata": {},
   "outputs": [],
   "source": [
    "try:\n",
    "    pass\n",
    "except:\n",
    "    pass\n",
    "else:\n",
    "    pass\n",
    "finally:\n",
    "    pass\n"
   ]
  },
  {
   "cell_type": "code",
   "execution_count": null,
   "id": "ac27ec8c",
   "metadata": {},
   "outputs": [
    {
     "name": "stdout",
     "output_type": "stream",
     "text": [
      "0 not allowed\n"
     ]
    }
   ],
   "source": [
    "try:\n",
    "    num = int(input(\"Enter your number:\"))\n",
    "    print(10/num)\n",
    "except ZeroDivisionError as e:\n",
    "    print(\"0 not allowed\")\n",
    "\n"
   ]
  },
  {
   "cell_type": "code",
   "execution_count": 4,
   "id": "0fa04ffb",
   "metadata": {},
   "outputs": [
    {
     "name": "stdout",
     "output_type": "stream",
     "text": [
      "0.2222222222222222\n",
      "thankyou\n"
     ]
    }
   ],
   "source": [
    "try:\n",
    "    num = int(input(\"Enter your number:\"))\n",
    "    result =(10/num)\n",
    "except ZeroDivisionError as e:\n",
    "    print(\"0 not allowed\")\n",
    "else:\n",
    "    print(result)\n",
    "finally:\n",
    "    print(\"thankyou\")\n"
   ]
  },
  {
   "cell_type": "code",
   "execution_count": 7,
   "id": "3b9141ae",
   "metadata": {},
   "outputs": [
    {
     "name": "stdout",
     "output_type": "stream",
     "text": [
      "charnot allowed invalid literal for int() with base 10: 'g'\n",
      "thankyou\n"
     ]
    }
   ],
   "source": [
    "try:\n",
    "    num = int(input(\"Enter your number:\"))\n",
    "    result =(10/num)\n",
    "except ZeroDivisionError as e:\n",
    "    print(\"0 not allowed\",e)\n",
    "\n",
    "except ValueError as e:\n",
    "    print(\"charnot allowed\",e)\n",
    "else:\n",
    "    print(result)\n",
    "finally:\n",
    "    print(\"thankyou\")\n"
   ]
  },
  {
   "cell_type": "code",
   "execution_count": 16,
   "id": "59840f75",
   "metadata": {},
   "outputs": [
    {
     "name": "stdout",
     "output_type": "stream",
     "text": [
      "invalid literal for int() with base 10: 'ng'\n"
     ]
    }
   ],
   "source": [
    "try:\n",
    "    num = int(input(\"Enter your number:\"))\n",
    "    result =(10/num)\n",
    "except Exception as e:\n",
    "    print(e)"
   ]
  },
  {
   "cell_type": "code",
   "execution_count": 19,
   "id": "64f80220",
   "metadata": {},
   "outputs": [
    {
     "name": "stdout",
     "output_type": "stream",
     "text": [
      "0.14705882352941177\n",
      "thankyou\n"
     ]
    }
   ],
   "source": [
    "try:\n",
    "    num = int(input(\"Enter your number:\"))\n",
    "    result =(10/num)\n",
    "except ZeroDivisionError as e:\n",
    "    print(\"0 not allowed\",e)\n",
    "\n",
    "except ValueError as e:\n",
    "    print(\"charnot allowed\",e)\n",
    "else:\n",
    "    print(result)\n",
    "finally:\n",
    "    print(\"thankyou\")\n"
   ]
  },
  {
   "cell_type": "code",
   "execution_count": 1,
   "id": "ad037840",
   "metadata": {},
   "outputs": [
    {
     "name": "stdout",
     "output_type": "stream",
     "text": [
      "8\n"
     ]
    }
   ],
   "source": [
    "add=lambda x,y: x+y\n",
    "print(add(3,5))"
   ]
  }
 ],
 "metadata": {
  "kernelspec": {
   "display_name": "Python 3",
   "language": "python",
   "name": "python3"
  },
  "language_info": {
   "codemirror_mode": {
    "name": "ipython",
    "version": 3
   },
   "file_extension": ".py",
   "mimetype": "text/x-python",
   "name": "python",
   "nbconvert_exporter": "python",
   "pygments_lexer": "ipython3",
   "version": "3.11.5"
  }
 },
 "nbformat": 4,
 "nbformat_minor": 5
}
