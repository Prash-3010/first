{
 "cells": [
  {
   "cell_type": "markdown",
   "id": "66077620",
   "metadata": {},
   "source": [
    "| Mode   | Description                                                  |\n",
    "| ------ | ------------------------------------------------------------ |\n",
    "| \"r\"  | Read mode (default), error if file doesn't exist             |\n",
    "| \"w\"  | Write mode, creates a file if not exist, overwrites existing |\n",
    "| \"a\"  | Append mode, adds content to end of file                     |\n",
    "| \"x\"  | Create mode, error if file already exists                    |\n",
    "                                         |"
   ]
  },
  {
   "cell_type": "code",
   "execution_count": 3,
   "id": "7e0b9ca5",
   "metadata": {},
   "outputs": [
    {
     "data": {
      "text/plain": [
       "'(hello i am prashansa)\\n\\n\\n'"
      ]
     },
     "execution_count": 3,
     "metadata": {},
     "output_type": "execute_result"
    }
   ],
   "source": [
    "file=open('demo.txt', 'r')\n",
    "file.read()"
   ]
  },
  {
   "cell_type": "code",
   "execution_count": 5,
   "id": "f1c1f817",
   "metadata": {},
   "outputs": [],
   "source": [
    "file.close()"
   ]
  },
  {
   "cell_type": "code",
   "execution_count": 9,
   "id": "c5e417e8",
   "metadata": {},
   "outputs": [],
   "source": [
    "file=open('demo.txt', 'w')\n",
    "file.write('currently pursuing B.Tech CSE. from Amity UNiversity Rajasthan')\n",
    "file.close()"
   ]
  },
  {
   "cell_type": "code",
   "execution_count": 10,
   "id": "f258af8e",
   "metadata": {},
   "outputs": [
    {
     "data": {
      "text/plain": [
       "'currently pursuing B.Tech CSE. from Amity UNiversity Rajasthan'"
      ]
     },
     "execution_count": 10,
     "metadata": {},
     "output_type": "execute_result"
    }
   ],
   "source": [
    "file=open('demo.txt', 'r')\n",
    "file.read()"
   ]
  },
  {
   "cell_type": "code",
   "execution_count": 8,
   "id": "3dc4603a",
   "metadata": {},
   "outputs": [],
   "source": [
    "file.close()"
   ]
  },
  {
   "cell_type": "code",
   "execution_count": 19,
   "id": "7e602db7",
   "metadata": {},
   "outputs": [],
   "source": [
    "file= open('demo.txt','a')\n",
    "file.write('I live in jaipur Rajasthan')\n",
    "file.close()\n"
   ]
  },
  {
   "cell_type": "code",
   "execution_count": 21,
   "id": "8389bcf0",
   "metadata": {},
   "outputs": [
    {
     "data": {
      "text/plain": [
       "'currently pursuing B.Tech CSE. from Amity UNiversity Rajasthani live in jaipur Rajasthan I live in jaipur RajasthanI live in jaipur Rajasthan'"
      ]
     },
     "execution_count": 21,
     "metadata": {},
     "output_type": "execute_result"
    }
   ],
   "source": [
    "file=open('demo.txt', 'r')\n",
    "file.read()"
   ]
  },
  {
   "cell_type": "code",
   "execution_count": 22,
   "id": "1e9c70fa",
   "metadata": {},
   "outputs": [],
   "source": [
    "file= open('demo1.txt','a')\n",
    "file.write('I live in jaipur Rajasthan')\n",
    "file.close()\n"
   ]
  },
  {
   "cell_type": "code",
   "execution_count": 23,
   "id": "b97bfbe0",
   "metadata": {},
   "outputs": [
    {
     "data": {
      "text/plain": [
       "'I live in jaipur Rajasthan'"
      ]
     },
     "execution_count": 23,
     "metadata": {},
     "output_type": "execute_result"
    }
   ],
   "source": [
    "file=open('demo1.txt', 'r')\n",
    "file.read()"
   ]
  },
  {
   "cell_type": "code",
   "execution_count": 24,
   "id": "ca438daa",
   "metadata": {},
   "outputs": [],
   "source": [
    "file.close()"
   ]
  },
  {
   "cell_type": "code",
   "execution_count": 26,
   "id": "83e6b487",
   "metadata": {},
   "outputs": [],
   "source": [
    "file=open('new.txt', 'x')\n",
    "file.write('currently enrolled in data science training program')\n",
    "file.close()"
   ]
  },
  {
   "cell_type": "code",
   "execution_count": 27,
   "id": "c4901a7e",
   "metadata": {},
   "outputs": [
    {
     "data": {
      "text/plain": [
       "'currently enrolled in data science training program'"
      ]
     },
     "execution_count": 27,
     "metadata": {},
     "output_type": "execute_result"
    }
   ],
   "source": [
    "file=open('new.txt', 'r')\n",
    "file.read()"
   ]
  },
  {
   "cell_type": "code",
   "execution_count": 32,
   "id": "8a2b14da",
   "metadata": {},
   "outputs": [
    {
     "data": {
      "text/plain": [
       "['currently pursuing B.Tech CSE. from Amity UNiversity Rajasthani live in jaipur Rajasthan I live in jaipur RajasthanI live in jaipur Rajasthan\\n',\n",
       " 'i love dancing\\n',\n",
       " 'i love sketching']"
      ]
     },
     "execution_count": 32,
     "metadata": {},
     "output_type": "execute_result"
    }
   ],
   "source": [
    "file=open('demo.txt', 'r')\n",
    "file.readlines()"
   ]
  },
  {
   "cell_type": "code",
   "execution_count": 1,
   "id": "37c63967",
   "metadata": {},
   "outputs": [
    {
     "ename": "NameError",
     "evalue": "name 'file' is not defined",
     "output_type": "error",
     "traceback": [
      "\u001b[31m---------------------------------------------------------------------------\u001b[39m",
      "\u001b[31mNameError\u001b[39m                                 Traceback (most recent call last)",
      "\u001b[36mCell\u001b[39m\u001b[36m \u001b[39m\u001b[32mIn[1]\u001b[39m\u001b[32m, line 1\u001b[39m\n\u001b[32m----> \u001b[39m\u001b[32m1\u001b[39m \u001b[43mfile\u001b[49m.close()\n",
      "\u001b[31mNameError\u001b[39m: name 'file' is not defined"
     ]
    }
   ],
   "source": [
    "file.close()"
   ]
  },
  {
   "cell_type": "code",
   "execution_count": null,
   "id": "1d4f3308",
   "metadata": {},
   "outputs": [],
   "source": [
    "with open()"
   ]
  }
 ],
 "metadata": {
  "kernelspec": {
   "display_name": "Python 3",
   "language": "python",
   "name": "python3"
  },
  "language_info": {
   "codemirror_mode": {
    "name": "ipython",
    "version": 3
   },
   "file_extension": ".py",
   "mimetype": "text/x-python",
   "name": "python",
   "nbconvert_exporter": "python",
   "pygments_lexer": "ipython3",
   "version": "3.11.5"
  }
 },
 "nbformat": 4,
 "nbformat_minor": 5
}
