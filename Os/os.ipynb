{
 "cells": [
  {
   "cell_type": "code",
   "execution_count": 1,
   "id": "e2751bae",
   "metadata": {},
   "outputs": [],
   "source": [
    "import os"
   ]
  },
  {
   "cell_type": "code",
   "execution_count": null,
   "id": "9b841d9f",
   "metadata": {},
   "outputs": [
    {
     "data": {
      "text/plain": [
       "'c:\\\\Users\\\\91746\\\\OneDrive\\\\Desktop\\\\Data science\\\\Python'"
      ]
     },
     "execution_count": 3,
     "metadata": {},
     "output_type": "execute_result"
    }
   ],
   "source": [
    "os.getcwd()      #get working directory"
   ]
  },
  {
   "cell_type": "code",
   "execution_count": null,
   "id": "b42b2a92",
   "metadata": {},
   "outputs": [
    {
     "data": {
      "text/plain": [
       "['basic.py',\n",
       " 'cond.ipynb',\n",
       " 'demo.txt',\n",
       " 'demo1.txt',\n",
       " 'excep.ipynb',\n",
       " 'file.ipynb',\n",
       " 'new.txt',\n",
       " 'os.ipynb',\n",
       " 'Test_Prashansa.ipynb']"
      ]
     },
     "execution_count": 4,
     "metadata": {},
     "output_type": "execute_result"
    }
   ],
   "source": [
    "os.listdir('c:\\\\Users\\\\91746\\\\OneDrive\\\\Desktop\\\\Data science\\\\Python')          #list directories"
   ]
  },
  {
   "cell_type": "code",
   "execution_count": null,
   "id": "d80d9752",
   "metadata": {},
   "outputs": [
    {
     "data": {
      "text/plain": [
       "['A.class',\n",
       " 'A.java',\n",
       " 'autoID.class',\n",
       " 'autoID.java',\n",
       " 'Avg_grade.class',\n",
       " 'Avg_grade.java',\n",
       " 'B.class',\n",
       " 'Car.class',\n",
       " 'Car.java',\n",
       " 'color.java',\n",
       " 'delete_Data.class',\n",
       " 'delete_Data.java',\n",
       " 'Ex_applet.class',\n",
       " 'Ex_applet.java',\n",
       " 'Ex_autoInsert.class',\n",
       " 'Ex_autoInsert.java',\n",
       " 'Ex_autonumber.class',\n",
       " 'Ex_autonumber.java',\n",
       " 'Ex_button.class',\n",
       " 'Ex_button.java',\n",
       " 'Ex_callpkg.class',\n",
       " 'Ex_callpkg.java',\n",
       " 'Ex_checkbox.class',\n",
       " 'Ex_checkbox.java',\n",
       " 'Ex_choice.class',\n",
       " 'Ex_choice.java',\n",
       " 'Ex_clickme.class',\n",
       " 'Ex_clickme.java',\n",
       " 'Ex_cons.class',\n",
       " 'Ex_cons.java',\n",
       " 'Ex_datainputstream.class',\n",
       " 'Ex_datainputstream.java',\n",
       " 'Ex_displayData.class',\n",
       " 'Ex_displayData.java',\n",
       " 'Ex_excep.class',\n",
       " 'Ex_excep.java',\n",
       " 'Ex_excp.class',\n",
       " 'Ex_excp.java',\n",
       " 'Ex_final.java',\n",
       " 'Ex_final1.class',\n",
       " 'Ex_final1.java',\n",
       " 'Ex_instof.class',\n",
       " 'Ex_instof.java',\n",
       " 'Ex_interface.class',\n",
       " 'Ex_interface.java',\n",
       " 'Ex_lifecycle.class',\n",
       " 'Ex_lifecycle.java',\n",
       " 'Ex_logindisplay.java',\n",
       " 'Ex_mol.class',\n",
       " 'Ex_mol.java',\n",
       " 'Ex_moving_button.class',\n",
       " 'Ex_moving_button.java',\n",
       " 'Ex_sql.class',\n",
       " 'Ex_sql.java',\n",
       " 'Ex_swap.class',\n",
       " 'Ex_swap.java',\n",
       " 'Ex_textfield.class',\n",
       " 'Ex_textfield.java',\n",
       " 'Ex_this.class',\n",
       " 'Ex_this.java',\n",
       " 'Ex_this1.class',\n",
       " 'Ex_this1.java',\n",
       " 'Ex_this2.class',\n",
       " 'Ex_this2.java',\n",
       " 'Ex_thread.class',\n",
       " 'Ex_thread.java',\n",
       " 'Ex_thread1.class',\n",
       " 'Ex_thread1.java',\n",
       " 'Ex_updateData.class',\n",
       " 'Ex_updateData.java',\n",
       " 'Face.class',\n",
       " 'Face.java',\n",
       " 'first.py',\n",
       " 'HelloWorld.java',\n",
       " 'IA.class',\n",
       " 'insert_data.class',\n",
       " 'insert_data.java',\n",
       " 'Mark.java',\n",
       " 'med.java',\n",
       " 'My_applet.class',\n",
       " 'My_applet.java',\n",
       " 'p1',\n",
       " 'Palindrome_check.class',\n",
       " 'Palindrome_check.java',\n",
       " 'SimpleNotepad.java',\n",
       " 'temp_convert.java',\n",
       " 'Temp_converter.class',\n",
       " 'Temp_converter.java',\n",
       " 'thread1.java',\n",
       " 'updateData.class',\n",
       " 'updateData.java']"
      ]
     },
     "execution_count": 8,
     "metadata": {},
     "output_type": "execute_result"
    }
   ],
   "source": [
    "path=\"C:\\prashansa java\"    \n",
    "os.listdir(path)"
   ]
  },
  {
   "cell_type": "code",
   "execution_count": 9,
   "id": "c1acfcef",
   "metadata": {},
   "outputs": [],
   "source": [
    "os.mkdir(\"prash\")            #make directory"
   ]
  },
  {
   "cell_type": "code",
   "execution_count": 10,
   "id": "080ae92d",
   "metadata": {},
   "outputs": [],
   "source": [
    "os.rename(\"prash\", \"Prashansa\")"
   ]
  },
  {
   "cell_type": "code",
   "execution_count": 11,
   "id": "642b1de1",
   "metadata": {},
   "outputs": [],
   "source": [
    "os.rmdir(\"Prashansa\")         #remove directory"
   ]
  },
  {
   "cell_type": "code",
   "execution_count": null,
   "id": "bc934c0e",
   "metadata": {},
   "outputs": [],
   "source": [
    "os.remove(\"new.txt\")       #remove file"
   ]
  },
  {
   "cell_type": "code",
   "execution_count": 13,
   "id": "a512f0d5",
   "metadata": {},
   "outputs": [
    {
     "data": {
      "text/plain": [
       "True"
      ]
     },
     "execution_count": 13,
     "metadata": {},
     "output_type": "execute_result"
    }
   ],
   "source": [
    "os.path.isdir(\"C:\\prashansa java\")"
   ]
  },
  {
   "cell_type": "code",
   "execution_count": 14,
   "id": "c65f00ff",
   "metadata": {},
   "outputs": [
    {
     "data": {
      "text/plain": [
       "False"
      ]
     },
     "execution_count": 14,
     "metadata": {},
     "output_type": "execute_result"
    }
   ],
   "source": [
    "os.path.isfile(\"C:\\prashansa java\")"
   ]
  },
  {
   "cell_type": "code",
   "execution_count": 18,
   "id": "a5aca80c",
   "metadata": {},
   "outputs": [
    {
     "data": {
      "text/plain": [
       "['- HerbalifePaymentManagementSystem.pdf',\n",
       " '1.html',\n",
       " '1001 TVs.lnk',\n",
       " 'amity.html',\n",
       " 'apache-tomcat-7.0.10.exe',\n",
       " 'Attendance.pdf',\n",
       " 'class 7',\n",
       " 'class 8',\n",
       " 'Data science',\n",
       " 'desktop.ini',\n",
       " 'eclipse',\n",
       " 'Eclipse IDE for Enterprise Java and Web Developers - 2024-03.lnk',\n",
       " 'Eclipse IDE for Java Developers - 2024-06.lnk',\n",
       " 'Excel.lnk',\n",
       " 'File Explorer.lnk',\n",
       " 'Games',\n",
       " 'GoTo.lnk',\n",
       " 'Grammarly.lnk',\n",
       " 'IMG_7595 (1).jpg',\n",
       " 'INSIDE.url',\n",
       " 'JMStudio.lnk',\n",
       " 'Little Nightmares II.url',\n",
       " 'Little Nightmares.url',\n",
       " 'PowerPoint.lnk',\n",
       " 'prashansa',\n",
       " 'Prashansa Singh.jpg',\n",
       " 'prashansasinghresume.pdf',\n",
       " 'PUBG BATTLEGROUNDS.url',\n",
       " 'Resume-Prashansa.pdf',\n",
       " 'Resume-Prashansa_Singh.pdf',\n",
       " 'resume.docx',\n",
       " 'Rockstar Games Launcher.lnk',\n",
       " 'Shop - Cart.pdf',\n",
       " 'universe.css',\n",
       " 'universe.html',\n",
       " 'website.html',\n",
       " 'Word.lnk']"
      ]
     },
     "execution_count": 18,
     "metadata": {},
     "output_type": "execute_result"
    }
   ],
   "source": [
    "path1=r\"C:\\prashansa java\"\n",
    "path2= r\"C:\\Users\\91746\\OneDrive\\Desktop\"\n",
    "path= os.path.join(path1,path2)\n",
    "os.listdir(path)"
   ]
  },
  {
   "cell_type": "code",
   "execution_count": null,
   "id": "aa74eea1",
   "metadata": {},
   "outputs": [
    {
     "data": {
      "text/plain": [
       "20480"
      ]
     },
     "execution_count": 21,
     "metadata": {},
     "output_type": "execute_result"
    },
    {
     "ename": "",
     "evalue": "",
     "output_type": "error",
     "traceback": [
      "\u001b[1;31mThe Kernel crashed while executing code in the current cell or a previous cell. \n",
      "\u001b[1;31mPlease review the code in the cell(s) to identify a possible cause of the failure. \n",
      "\u001b[1;31mClick <a href='https://aka.ms/vscodeJupyterKernelCrash'>here</a> for more info. \n",
      "\u001b[1;31mView Jupyter <a href='command:jupyter.viewOutput'>log</a> for further details."
     ]
    }
   ],
   "source": [
    "os.path.getsize(r\"C:\\Users\\91746\\OneDrive\\Desktop\")"
   ]
  },
  {
   "cell_type": "markdown",
   "id": "dcf05b3d",
   "metadata": {},
   "source": [
    "system\n",
    "environment\n"
   ]
  }
 ],
 "metadata": {
  "kernelspec": {
   "display_name": "Python 3",
   "language": "python",
   "name": "python3"
  },
  "language_info": {
   "codemirror_mode": {
    "name": "ipython",
    "version": 3
   },
   "file_extension": ".py",
   "mimetype": "text/x-python",
   "name": "python",
   "nbconvert_exporter": "python",
   "pygments_lexer": "ipython3",
   "version": "3.11.5"
  }
 },
 "nbformat": 4,
 "nbformat_minor": 5
}
